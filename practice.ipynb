{
 "cells": [
  {
   "cell_type": "code",
   "execution_count": 49,
   "metadata": {},
   "outputs": [],
   "source": [
    "def twoSum(numbers, target: int):\n",
    "    l,r = 0,len(numbers)-1\n",
    "    #print(l,r)\n",
    "    while l<r:\n",
    "        addition = numbers[l]+numbers[r]\n",
    "        if addition>target:\n",
    "            r-=1\n",
    "        elif addition<target:\n",
    "            l+=1\n",
    "        else:\n",
    "            return l,r\n",
    "    return None\n",
    "    #print(addition,l,r)     "
   ]
  },
  {
   "cell_type": "code",
   "execution_count": 51,
   "metadata": {},
   "outputs": [
    {
     "name": "stdout",
     "output_type": "stream",
     "text": [
      "(0, 1)\n"
     ]
    }
   ],
   "source": [
    "numbers = [2,7,11,15]\n",
    "print(twoSum(numbers,9))"
   ]
  },
  {
   "cell_type": "code",
   "execution_count": 6,
   "metadata": {},
   "outputs": [
    {
     "name": "stdout",
     "output_type": "stream",
     "text": [
      "5\n",
      "1\n",
      "8\n",
      "7\n",
      "5\n",
      "7\n",
      "5\n",
      "6\n",
      "5\n",
      "4\n",
      "4\n",
      "3\n",
      "2\n",
      "1\n"
     ]
    }
   ],
   "source": [
    "lst = [1,2,3,4,4,5,6,5,7,5,7,8,1,5]\n",
    "for i in range(len(lst)):\n",
    "    j = -i - 1 \n",
    "    print(lst[j])"
   ]
  },
  {
   "cell_type": "code",
   "execution_count": 22,
   "metadata": {},
   "outputs": [],
   "source": [
    "h = [0,1,0,2,1,0,1,3,2,1,2,1]\n",
    "def trap(height):\n",
    "    l_wall=r_wall=0\n",
    "    n = len(height)\n",
    "    max_left = n*[0]\n",
    "    max_right = n*[0]\n",
    "\n",
    "    for i in range(n):\n",
    "        j = -i -1\n",
    "        max_left[i]=l_wall\n",
    "        max_right[j]=r_wall\n",
    "\n",
    "        l_wall = max(l_wall,height[i])\n",
    "        r_wall = max(r_wall,height[j])\n",
    "    summ = 0\n",
    "    for i in range(n):\n",
    "        pot = min(max_left[i],max_right[i])\n",
    "        summ += max(0,pot-height[i])\n",
    "    return summ "
   ]
  },
  {
   "cell_type": "code",
   "execution_count": 23,
   "metadata": {},
   "outputs": [
    {
     "data": {
      "text/plain": [
       "0"
      ]
     },
     "execution_count": 23,
     "metadata": {},
     "output_type": "execute_result"
    }
   ],
   "source": [
    "trap(h)"
   ]
  },
  {
   "cell_type": "code",
   "execution_count": 27,
   "metadata": {},
   "outputs": [
    {
     "ename": "TypeError",
     "evalue": "bad operand type for abs(): 'list'",
     "output_type": "error",
     "traceback": [
      "\u001b[1;31m---------------------------------------------------------------------------\u001b[0m",
      "\u001b[1;31mTypeError\u001b[0m                                 Traceback (most recent call last)",
      "Cell \u001b[1;32mIn[27], line 2\u001b[0m\n\u001b[0;32m      1\u001b[0m nums \u001b[38;5;241m=\u001b[39m [\u001b[38;5;241m-\u001b[39m\u001b[38;5;241m4\u001b[39m,\u001b[38;5;241m-\u001b[39m\u001b[38;5;241m2\u001b[39m,\u001b[38;5;241m1\u001b[39m,\u001b[38;5;241m4\u001b[39m,\u001b[38;5;241m8\u001b[39m]\n\u001b[1;32m----> 2\u001b[0m \u001b[38;5;28;43mabs\u001b[39;49m\u001b[43m(\u001b[49m\u001b[43mnums\u001b[49m\u001b[43m)\u001b[49m\n",
      "\u001b[1;31mTypeError\u001b[0m: bad operand type for abs(): 'list'"
     ]
    }
   ],
   "source": [
    "nums = [-4,-2,1,4,8]\n"
   ]
  },
  {
   "cell_type": "code",
   "execution_count": 3,
   "metadata": {},
   "outputs": [],
   "source": [
    "nums = [-4,-2,1,4,8]\n",
    "\n",
    "def findClosestNumber(nums):\n",
    "    minx = nums[0]\n",
    "    for i in nums:\n",
    "        if abs(i)<abs(minx):\n",
    "            minx = i \n",
    "\n",
    "    if minx<0 and abs(minx) in nums:\n",
    "        return abs(minx)\n",
    "    else:\n",
    "        return minx\n",
    "    "
   ]
  },
  {
   "cell_type": "code",
   "execution_count": 4,
   "metadata": {},
   "outputs": [
    {
     "data": {
      "text/plain": [
       "1"
      ]
     },
     "execution_count": 4,
     "metadata": {},
     "output_type": "execute_result"
    }
   ],
   "source": [
    "findClosestNumber(nums)"
   ]
  },
  {
   "cell_type": "code",
   "execution_count": null,
   "metadata": {},
   "outputs": [],
   "source": [
    "from typing import List\n",
    "class Solution:\n",
    "    def mergeAlternately(self, word1: str, word2: str) -> str:\n",
    "        "
   ]
  },
  {
   "cell_type": "code",
   "execution_count": null,
   "metadata": {},
   "outputs": [],
   "source": [
    "word1 = \"abc\"\n",
    "word2 = \"pqr\"\n"
   ]
  }
 ],
 "metadata": {
  "kernelspec": {
   "display_name": "Python 3",
   "language": "python",
   "name": "python3"
  },
  "language_info": {
   "codemirror_mode": {
    "name": "ipython",
    "version": 3
   },
   "file_extension": ".py",
   "mimetype": "text/x-python",
   "name": "python",
   "nbconvert_exporter": "python",
   "pygments_lexer": "ipython3",
   "version": "3.12.6"
  }
 },
 "nbformat": 4,
 "nbformat_minor": 2
}
